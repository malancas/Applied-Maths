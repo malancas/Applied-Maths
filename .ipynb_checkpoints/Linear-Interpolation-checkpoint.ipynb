{
 "cells": [
  {
   "cell_type": "markdown",
   "metadata": {},
   "source": [
    "## Linear Interpolation\n",
    "Linear interpolation is a method of curve fitting used to determine the y-axis of a point given the x-axis amongst a pre-established series of discrete points.\n",
    "\n",
    "$$y = y_0 + (x - x_0)\\frac{y_1 - y_0}{x_1 - x_0}$$\n",
    "\n",
    "### What is it used for?"
   ]
  },
  {
   "cell_type": "code",
   "execution_count": 15,
   "metadata": {
    "collapsed": false
   },
   "outputs": [
    {
     "data": {
      "text/plain": [
       "\u001b[36mres14\u001b[39m: \u001b[32mList\u001b[39m[\u001b[32mArray\u001b[39m[\u001b[32mDouble\u001b[39m]] = \u001b[33mList\u001b[39m(\u001b[33mArray\u001b[39m(\u001b[32m3.4\u001b[39m, \u001b[32m8.0\u001b[39m), \u001b[33mArray\u001b[39m(\u001b[32m2.0\u001b[39m, \u001b[32m89.3\u001b[39m), \u001b[33mArray\u001b[39m(\u001b[32m0.4\u001b[39m, \u001b[32m6.9\u001b[39m))"
      ]
     },
     "execution_count": 15,
     "metadata": {},
     "output_type": "execute_result"
    }
   ],
   "source": [
    "io.Source.fromFile(\"sample.csv\")\n",
    ".getLines()\n",
    ".map(_.split(\",\").map(_.toDouble))\n",
    ".toList"
   ]
  },
  {
   "cell_type": "code",
   "execution_count": null,
   "metadata": {
    "collapsed": true
   },
   "outputs": [],
   "source": []
  }
 ],
 "metadata": {
  "kernelspec": {
   "display_name": "Scala",
   "language": "scala",
   "name": "scala"
  },
  "language_info": {
   "codemirror_mode": "text/x-scala",
   "file_extension": ".scala",
   "mimetype": "text/x-scala",
   "name": "scala211",
   "nbconvert_exporter": "script",
   "pygments_lexer": "scala",
   "version": "2.11.8"
  }
 },
 "nbformat": 4,
 "nbformat_minor": 2
}
