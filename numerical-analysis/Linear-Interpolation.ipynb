{
 "cells": [
  {
   "cell_type": "code",
   "execution_count": 1,
   "metadata": {
    "collapsed": false,
    "deletable": true,
    "editable": true
   },
   "outputs": [
    {
     "name": "stdout",
     "output_type": "stream",
     "text": [
      "Downloading https://repo1.maven.org/maven2/org/scalanlp/breeze-viz_2.11/0.11.2/breeze-viz_2.11-0.11.2.pom.sha1\n",
      "Downloading https://repo1.maven.org/maven2/org/scalanlp/breeze-viz_2.11/0.11.2/breeze-viz_2.11-0.11.2.pom\n",
      "Downloaded https://repo1.maven.org/maven2/org/scalanlp/breeze-viz_2.11/0.11.2/breeze-viz_2.11-0.11.2.pom\n",
      "Downloaded https://repo1.maven.org/maven2/org/scalanlp/breeze-viz_2.11/0.11.2/breeze-viz_2.11-0.11.2.pom.sha1\n",
      "Downloading https://repo1.maven.org/maven2/jfree/jcommon/1.0.16/jcommon-1.0.16.pom\n",
      "Downloading https://repo1.maven.org/maven2/com/lowagie/itext/2.1.5/itext-2.1.5.pom.sha1\n",
      "Downloading https://repo1.maven.org/maven2/com/lowagie/itext/2.1.5/itext-2.1.5.pom\n",
      "Downloading https://repo1.maven.org/maven2/jfree/jfreechart/1.0.13/jfreechart-1.0.13.pom.sha1\n",
      "Downloading https://repo1.maven.org/maven2/jfree/jfreechart/1.0.13/jfreechart-1.0.13.pom\n",
      "Downloading https://repo1.maven.org/maven2/jfree/jcommon/1.0.16/jcommon-1.0.16.pom.sha1\n",
      "Downloaded https://repo1.maven.org/maven2/jfree/jcommon/1.0.16/jcommon-1.0.16.pom\n",
      "Downloading https://repo1.maven.org/maven2/org/apache/xmlgraphics/xmlgraphics-commons/1.3.1/xmlgraphics-commons-1.3.1.pom\n",
      "Downloaded https://repo1.maven.org/maven2/jfree/jfreechart/1.0.13/jfreechart-1.0.13.pom\n",
      "Downloading https://repo1.maven.org/maven2/org/apache/xmlgraphics/xmlgraphics-commons/1.3.1/xmlgraphics-commons-1.3.1.pom.sha1\n",
      "Downloaded https://repo1.maven.org/maven2/com/lowagie/itext/2.1.5/itext-2.1.5.pom\n",
      "Downloaded https://repo1.maven.org/maven2/jfree/jcommon/1.0.16/jcommon-1.0.16.pom.sha1\n",
      "Downloaded https://repo1.maven.org/maven2/jfree/jfreechart/1.0.13/jfreechart-1.0.13.pom.sha1\n",
      "Downloaded https://repo1.maven.org/maven2/com/lowagie/itext/2.1.5/itext-2.1.5.pom.sha1\n",
      "Downloaded https://repo1.maven.org/maven2/org/apache/xmlgraphics/xmlgraphics-commons/1.3.1/xmlgraphics-commons-1.3.1.pom.sha1\n",
      "Downloaded https://repo1.maven.org/maven2/org/apache/xmlgraphics/xmlgraphics-commons/1.3.1/xmlgraphics-commons-1.3.1.pom\n",
      "Downloading https://repo1.maven.org/maven2/bouncycastle/bcmail-jdk14/138/bcmail-jdk14-138.pom\n",
      "Downloading https://repo1.maven.org/maven2/bouncycastle/bcprov-jdk14/138/bcprov-jdk14-138.pom\n",
      "Downloading https://repo1.maven.org/maven2/commons-io/commons-io/1.3.1/commons-io-1.3.1.pom\n",
      "Downloading https://repo1.maven.org/maven2/commons-logging/commons-logging/1.0.4/commons-logging-1.0.4.pom.sha1\n",
      "Downloading https://repo1.maven.org/maven2/commons-logging/commons-logging/1.0.4/commons-logging-1.0.4.pom\n",
      "Downloading https://repo1.maven.org/maven2/bouncycastle/bcmail-jdk14/138/bcmail-jdk14-138.pom.sha1\n",
      "Downloaded https://repo1.maven.org/maven2/bouncycastle/bcprov-jdk14/138/bcprov-jdk14-138.pom\n",
      "Downloading https://repo1.maven.org/maven2/commons-io/commons-io/1.3.1/commons-io-1.3.1.pom.sha1\n",
      "Downloaded https://repo1.maven.org/maven2/bouncycastle/bcmail-jdk14/138/bcmail-jdk14-138.pom\n",
      "Downloading https://repo1.maven.org/maven2/bouncycastle/bcprov-jdk14/138/bcprov-jdk14-138.pom.sha1\n",
      "Downloaded https://repo1.maven.org/maven2/commons-io/commons-io/1.3.1/commons-io-1.3.1.pom\n",
      "Downloaded https://repo1.maven.org/maven2/commons-logging/commons-logging/1.0.4/commons-logging-1.0.4.pom.sha1\n",
      "Downloaded https://repo1.maven.org/maven2/bouncycastle/bcprov-jdk14/138/bcprov-jdk14-138.pom.sha1\n",
      "Downloaded https://repo1.maven.org/maven2/commons-io/commons-io/1.3.1/commons-io-1.3.1.pom.sha1\n",
      "Downloaded https://repo1.maven.org/maven2/commons-logging/commons-logging/1.0.4/commons-logging-1.0.4.pom\n",
      "Downloaded https://repo1.maven.org/maven2/bouncycastle/bcmail-jdk14/138/bcmail-jdk14-138.pom.sha1\n",
      "Downloading https://repo1.maven.org/maven2/jfree/jfreechart/1.0.13/jfreechart-1.0.13.jar\n",
      "Downloading https://repo1.maven.org/maven2/jfree/jfreechart/1.0.13/jfreechart-1.0.13.jar.sha1\n",
      "Downloading https://repo1.maven.org/maven2/bouncycastle/bcmail-jdk14/138/bcmail-jdk14-138.jar\n",
      "Downloading https://repo1.maven.org/maven2/bouncycastle/bcmail-jdk14/138/bcmail-jdk14-138.jar.sha1\n",
      "Downloaded https://repo1.maven.org/maven2/jfree/jfreechart/1.0.13/jfreechart-1.0.13.jar.sha1\n",
      "Downloaded https://repo1.maven.org/maven2/bouncycastle/bcmail-jdk14/138/bcmail-jdk14-138.jar.sha1\n",
      "Downloading https://repo1.maven.org/maven2/bouncycastle/bcprov-jdk14/138/bcprov-jdk14-138.jar\n",
      "Downloading https://repo1.maven.org/maven2/bouncycastle/bcprov-jdk14/138/bcprov-jdk14-138.jar.sha1\n",
      "Downloading https://repo1.maven.org/maven2/commons-io/commons-io/1.3.1/commons-io-1.3.1.jar\n",
      "Downloaded https://repo1.maven.org/maven2/bouncycastle/bcmail-jdk14/138/bcmail-jdk14-138.jar\n",
      "Downloading https://repo1.maven.org/maven2/commons-io/commons-io/1.3.1/commons-io-1.3.1.jar.sha1\n",
      "Downloading https://repo1.maven.org/maven2/com/lowagie/itext/2.1.5/itext-2.1.5.jar\n",
      "Downloaded https://repo1.maven.org/maven2/bouncycastle/bcprov-jdk14/138/bcprov-jdk14-138.jar.sha1\n",
      "Downloading https://repo1.maven.org/maven2/com/lowagie/itext/2.1.5/itext-2.1.5.jar.sha1\n",
      "Downloaded https://repo1.maven.org/maven2/commons-io/commons-io/1.3.1/commons-io-1.3.1.jar.sha1\n",
      "Downloading https://repo1.maven.org/maven2/org/apache/xmlgraphics/xmlgraphics-commons/1.3.1/xmlgraphics-commons-1.3.1.jar\n",
      "Downloaded https://repo1.maven.org/maven2/com/lowagie/itext/2.1.5/itext-2.1.5.jar.sha1\n",
      "Downloading https://repo1.maven.org/maven2/org/apache/xmlgraphics/xmlgraphics-commons/1.3.1/xmlgraphics-commons-1.3.1.jar.sha1\n",
      "Downloaded https://repo1.maven.org/maven2/commons-io/commons-io/1.3.1/commons-io-1.3.1.jar\n",
      "Downloading https://repo1.maven.org/maven2/commons-logging/commons-logging/1.0.4/commons-logging-1.0.4.jar.sha1\n",
      "Downloaded https://repo1.maven.org/maven2/org/apache/xmlgraphics/xmlgraphics-commons/1.3.1/xmlgraphics-commons-1.3.1.jar.sha1\n",
      "Downloading https://repo1.maven.org/maven2/org/scalanlp/breeze-viz_2.11/0.11.2/breeze-viz_2.11-0.11.2.jar\n",
      "Downloaded https://repo1.maven.org/maven2/commons-logging/commons-logging/1.0.4/commons-logging-1.0.4.jar.sha1\n",
      "Downloading https://repo1.maven.org/maven2/org/scalanlp/breeze-viz_2.11/0.11.2/breeze-viz_2.11-0.11.2.jar.sha1\n",
      "Downloaded https://repo1.maven.org/maven2/org/scalanlp/breeze-viz_2.11/0.11.2/breeze-viz_2.11-0.11.2.jar.sha1\n",
      "Downloading https://repo1.maven.org/maven2/jfree/jcommon/1.0.16/jcommon-1.0.16.jar\n",
      "Downloaded https://repo1.maven.org/maven2/org/scalanlp/breeze-viz_2.11/0.11.2/breeze-viz_2.11-0.11.2.jar\n",
      "Downloading https://repo1.maven.org/maven2/jfree/jcommon/1.0.16/jcommon-1.0.16.jar.sha1\n",
      "Downloaded https://repo1.maven.org/maven2/jfree/jcommon/1.0.16/jcommon-1.0.16.jar.sha1\n",
      "Downloading https://repo1.maven.org/maven2/commons-logging/commons-logging/1.0.4/commons-logging-1.0.4.jar\n",
      "Downloaded https://repo1.maven.org/maven2/commons-logging/commons-logging/1.0.4/commons-logging-1.0.4.jar\n",
      "Downloaded https://repo1.maven.org/maven2/jfree/jcommon/1.0.16/jcommon-1.0.16.jar\n",
      "Downloaded https://repo1.maven.org/maven2/org/apache/xmlgraphics/xmlgraphics-commons/1.3.1/xmlgraphics-commons-1.3.1.jar\n",
      "https://repo1.maven.org/maven2/jfree/jfreechart/1.0.13/jfreech… (83.84 %, 11954…\n",
      "https://repo1.maven.org/maven2/com/lowagie/itext/2.1.5/itext-2… (35.13 %, 39258…\n",
      "https://repo1.maven.org/maven2/bouncycastle/bcprov-jdk14/138/b… (30.58 %, 47450…\n",
      "\n",
      "Downloaded https://repo1.maven.org/maven2/jfree/jfreechart/1.0.13/jfreechart-1.0.13.jar\n",
      "Downloaded https://repo1.maven.org/maven2/com/lowagie/itext/2.1.5/itext-2.1.5.jar\n",
      "https://repo1.maven.org/maven2/bouncycastle/bcprov-jdk14/138/b… (79.16 %, 12281…\n",
      "\n",
      "Downloaded https://repo1.maven.org/maven2/bouncycastle/bcprov-jdk14/138/bcprov-jdk14-138.jar\n"
     ]
    },
    {
     "data": {
      "text/plain": [
       "\u001b[32mimport \u001b[39m\u001b[36m$ivy.$                            \n",
       "\u001b[39m\n",
       "\u001b[32mimport \u001b[39m\u001b[36m$ivy.$                                    \n",
       "\u001b[39m\n",
       "\u001b[32mimport \u001b[39m\u001b[36m$ivy.$                                \u001b[39m"
      ]
     },
     "execution_count": 1,
     "metadata": {},
     "output_type": "execute_result"
    }
   ],
   "source": [
    "import $ivy.`org.scalanlp::breeze:0.11.2`\n",
    "import $ivy.`org.scalanlp::breeze-natives:0.11.2`\n",
    "import $ivy.`org.scalanlp::breeze-viz:0.11.2`"
   ]
  },
  {
   "cell_type": "markdown",
   "metadata": {
    "deletable": true,
    "editable": true
   },
   "source": [
    "## Linear Interpolation\n",
    "Linear interpolation is a method of curve fitting used to determine the y-axis of a point given the x-axis amongst a pre-established series of discrete points.\n",
    "\n",
    "$$y = y_0 + (x - x_0)\\frac{y_1 - y_0}{x_1 - x_0}$$\n",
    "\n",
    "### What is it used for?"
   ]
  },
  {
   "cell_type": "code",
   "execution_count": 3,
   "metadata": {
    "collapsed": false,
    "deletable": true,
    "editable": true
   },
   "outputs": [
    {
     "data": {
      "text/plain": [
       "\u001b[36mdata\u001b[39m: \u001b[32mVector\u001b[39m[\u001b[32mArray\u001b[39m[\u001b[32mDouble\u001b[39m]] = \u001b[33mVector\u001b[39m(\u001b[33mArray\u001b[39m(\u001b[32m3.4\u001b[39m, \u001b[32m8.0\u001b[39m), \u001b[33mArray\u001b[39m(\u001b[32m2.0\u001b[39m, \u001b[32m89.3\u001b[39m), \u001b[33mArray\u001b[39m(\u001b[32m0.4\u001b[39m, \u001b[32m6.9\u001b[39m))"
      ]
     },
     "execution_count": 3,
     "metadata": {},
     "output_type": "execute_result"
    }
   ],
   "source": [
    "val data = scala.io.Source.fromFile(\"sample.csv\")\n",
    ".getLines()\n",
    ".map(_.split(\",\").map(_.toDouble))\n",
    ".toVector"
   ]
  },
  {
   "cell_type": "markdown",
   "metadata": {
    "deletable": true,
    "editable": true
   },
   "source": [
    "Using imported data points from a sample csv file, one can then get the y-axis of x value between the x-axis' of established points."
   ]
  },
  {
   "cell_type": "code",
   "execution_count": 4,
   "metadata": {
    "collapsed": false,
    "deletable": true,
    "editable": true
   },
   "outputs": [
    {
     "data": {
      "text/plain": [
       "defined \u001b[32mfunction\u001b[39m \u001b[36mfindInterpolation\u001b[39m"
      ]
     },
     "execution_count": 4,
     "metadata": {},
     "output_type": "execute_result"
    }
   ],
   "source": [
    "  def findInterpolation(x: Double, p0: Array[Double], p1: Array[Double]): Double = {\n",
    "    p1(1) + (x - p0(0)) * ((p1(1) - p0(1)) / (p1(0) - p0(0)))\n",
    "  }"
   ]
  },
  {
   "cell_type": "code",
   "execution_count": 5,
   "metadata": {
    "collapsed": false,
    "deletable": true,
    "editable": true
   },
   "outputs": [
    {
     "data": {
      "text/plain": [
       "defined \u001b[32mfunction\u001b[39m \u001b[36mfindPoints\u001b[39m"
      ]
     },
     "execution_count": 5,
     "metadata": {},
     "output_type": "execute_result"
    }
   ],
   "source": [
    "def findPoints(x: Double, data: Vector[Array[Double]], low: Int, high: Int): Double = {\n",
    "    if ((high - low) == 1) findInterpolation(x, data(low), data(high))\n",
    "    else {\n",
    "        val mid = (low + high) / 2 \n",
    "        if (x < data(mid)(0)) findPoints(x, data, low, mid)\n",
    "        else if (x > data(mid)(0)) findPoints(x, data, mid, high)\n",
    "        else -1\n",
    "    }\n",
    "}"
   ]
  },
  {
   "cell_type": "code",
   "execution_count": 6,
   "metadata": {
    "collapsed": false,
    "deletable": true,
    "editable": true
   },
   "outputs": [
    {
     "name": "stdout",
     "output_type": "stream",
     "text": [
      "12.050000000000004\n"
     ]
    },
    {
     "data": {
      "text/plain": [
       "\u001b[36mnewX\u001b[39m: \u001b[32mDouble\u001b[39m = \u001b[32m2.1\u001b[39m\n",
       "\u001b[36mnewY\u001b[39m: \u001b[32mDouble\u001b[39m = \u001b[32m12.050000000000004\u001b[39m\n",
       "\u001b[36mxVals\u001b[39m: \u001b[32mVector\u001b[39m[\u001b[32mDouble\u001b[39m] = \u001b[33mVector\u001b[39m(\u001b[32m3.4\u001b[39m, \u001b[32m2.0\u001b[39m, \u001b[32m0.4\u001b[39m)\n",
       "\u001b[36myVals\u001b[39m: \u001b[32mVector\u001b[39m[\u001b[32mDouble\u001b[39m] = \u001b[33mVector\u001b[39m(\u001b[32m8.0\u001b[39m, \u001b[32m89.3\u001b[39m, \u001b[32m6.9\u001b[39m)"
      ]
     },
     "execution_count": 6,
     "metadata": {},
     "output_type": "execute_result"
    }
   ],
   "source": [
    "val newX = 2.1\n",
    "val newY = findPoints(newX, data, 0, data.length-1)\n",
    "println(newY)\n",
    "val (xVals, yVals) = data.map{ case Array(x,y) => (x,y)}.unzip"
   ]
  },
  {
   "cell_type": "code",
   "execution_count": 6,
   "metadata": {
    "collapsed": false,
    "deletable": true,
    "editable": true
   },
   "outputs": [
    {
     "name": "stderr",
     "output_type": "stream",
     "text": [
      "cmd6.sc:1: not found: value breeze\n",
      "import breeze.plot._\n",
      "       ^cmd6.sc:2: not found: value Figure\n",
      "val fig = Figure()\n",
      "          ^"
     ]
    },
    {
     "ename": "",
     "evalue": "",
     "output_type": "error",
     "traceback": [
      "Compilation Failed"
     ]
    }
   ],
   "source": [
    "import breeze.plot._\n",
    "val fig = Figure()\n",
    "val plt = fig.subplot(0)\n",
    "plt += plot(xVals, yVals)\n",
    "fig.refresh()"
   ]
  },
  {
   "cell_type": "code",
   "execution_count": null,
   "metadata": {
    "collapsed": true,
    "deletable": true,
    "editable": true
   },
   "outputs": [],
   "source": []
  },
  {
   "cell_type": "code",
   "execution_count": null,
   "metadata": {
    "collapsed": true,
    "deletable": true,
    "editable": true
   },
   "outputs": [],
   "source": []
  }
 ],
 "metadata": {
  "kernelspec": {
   "display_name": "Scala",
   "language": "scala",
   "name": "scala"
  },
  "language_info": {
   "codemirror_mode": "text/x-scala",
   "file_extension": ".scala",
   "mimetype": "text/x-scala",
   "name": "scala211",
   "nbconvert_exporter": "script",
   "pygments_lexer": "scala",
   "version": "2.11.8"
  }
 },
 "nbformat": 4,
 "nbformat_minor": 2
}
