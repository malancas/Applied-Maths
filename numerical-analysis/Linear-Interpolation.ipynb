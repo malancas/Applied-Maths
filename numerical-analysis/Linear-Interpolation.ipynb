{
 "cells": [
  {
   "cell_type": "code",
   "execution_count": 1,
   "metadata": {
    "collapsed": false,
    "deletable": true,
    "editable": true
   },
   "outputs": [
    {
     "data": {
      "text/plain": [
       "\u001b[32mimport \u001b[39m\u001b[36m$ivy.$                            \n",
       "\u001b[39m\n",
       "\u001b[32mimport \u001b[39m\u001b[36m$ivy.$                                    \n",
       "\u001b[39m\n",
       "\u001b[32mimport \u001b[39m\u001b[36m$ivy.$                                \u001b[39m"
      ]
     },
     "execution_count": 1,
     "metadata": {},
     "output_type": "execute_result"
    }
   ],
   "source": [
    "import $ivy.`org.scalanlp::breeze:0.11.2`\n",
    "import $ivy.`org.scalanlp::breeze-natives:0.11.2`\n",
    "import $ivy.`org.scalanlp::breeze-viz:0.11.2`"
   ]
  },
  {
   "cell_type": "markdown",
   "metadata": {
    "deletable": true,
    "editable": true
   },
   "source": [
    "## Linear Interpolation\n",
    "Linear interpolation is a method of curve fitting used to determine the y-axis of a point given the x-axis amongst a pre-established series of discrete points.\n",
    "\n",
    "$$y = y_0 + (x - x_0)\\frac{y_1 - y_0}{x_1 - x_0}$$\n",
    "\n",
    "### What is it used for?"
   ]
  },
  {
   "cell_type": "code",
   "execution_count": 2,
   "metadata": {
    "collapsed": false,
    "deletable": true,
    "editable": true
   },
   "outputs": [
    {
     "data": {
      "text/plain": [
       "\u001b[36mdata\u001b[39m: \u001b[32mVector\u001b[39m[\u001b[32mArray\u001b[39m[\u001b[32mDouble\u001b[39m]] = \u001b[33mVector\u001b[39m(\u001b[33mArray\u001b[39m(\u001b[32m3.4\u001b[39m, \u001b[32m8.0\u001b[39m), \u001b[33mArray\u001b[39m(\u001b[32m2.0\u001b[39m, \u001b[32m89.3\u001b[39m), \u001b[33mArray\u001b[39m(\u001b[32m0.4\u001b[39m, \u001b[32m6.9\u001b[39m))"
      ]
     },
     "execution_count": 2,
     "metadata": {},
     "output_type": "execute_result"
    }
   ],
   "source": [
    "val data = scala.io.Source.fromFile(\"sample.csv\")\n",
    ".getLines()\n",
    ".map(_.split(\",\").map(_.toDouble))\n",
    ".toVector"
   ]
  },
  {
   "cell_type": "markdown",
   "metadata": {
    "deletable": true,
    "editable": true
   },
   "source": [
    "Using imported data points from a sample csv file, one can then get the y-axis of x value between the x-axis' of established points."
   ]
  },
  {
   "cell_type": "code",
   "execution_count": 3,
   "metadata": {
    "collapsed": false,
    "deletable": true,
    "editable": true
   },
   "outputs": [
    {
     "data": {
      "text/plain": [
       "defined \u001b[32mfunction\u001b[39m \u001b[36mfindInterpolation\u001b[39m"
      ]
     },
     "execution_count": 3,
     "metadata": {},
     "output_type": "execute_result"
    }
   ],
   "source": [
    "  def findInterpolation(x: Double, p0: Array[Double], p1: Array[Double]): Double = {\n",
    "    p1(1) + (x - p0(0)) * ((p1(1) - p0(1)) / (p1(0) - p0(0)))\n",
    "  }"
   ]
  },
  {
   "cell_type": "code",
   "execution_count": 4,
   "metadata": {
    "collapsed": false,
    "deletable": true,
    "editable": true
   },
   "outputs": [
    {
     "data": {
      "text/plain": [
       "defined \u001b[32mfunction\u001b[39m \u001b[36mfindPoints\u001b[39m"
      ]
     },
     "execution_count": 4,
     "metadata": {},
     "output_type": "execute_result"
    }
   ],
   "source": [
    "def findPoints(x: Double, data: Vector[Array[Double]], low: Int, high: Int): Double = {\n",
    "    if ((high - low) == 1) findInterpolation(x, data(low), data(high))\n",
    "    else {\n",
    "        val mid = (low + high) / 2 \n",
    "        if (x < data(mid)(0)) findPoints(x, data, low, mid)\n",
    "        else if (x > data(mid)(0)) findPoints(x, data, mid, high)\n",
    "        else -1\n",
    "    }\n",
    "}"
   ]
  },
  {
   "cell_type": "code",
   "execution_count": 5,
   "metadata": {
    "collapsed": false,
    "deletable": true,
    "editable": true
   },
   "outputs": [
    {
     "name": "stdout",
     "output_type": "stream",
     "text": [
      "12.050000000000004\n"
     ]
    },
    {
     "data": {
      "text/plain": [
       "\u001b[36mnewX\u001b[39m: \u001b[32mDouble\u001b[39m = \u001b[32m2.1\u001b[39m\n",
       "\u001b[36mnewY\u001b[39m: \u001b[32mDouble\u001b[39m = \u001b[32m12.050000000000004\u001b[39m\n",
       "\u001b[36mxVals\u001b[39m: \u001b[32mVector\u001b[39m[\u001b[32mDouble\u001b[39m] = \u001b[33mVector\u001b[39m(\u001b[32m3.4\u001b[39m, \u001b[32m2.0\u001b[39m, \u001b[32m0.4\u001b[39m)\n",
       "\u001b[36myVals\u001b[39m: \u001b[32mVector\u001b[39m[\u001b[32mDouble\u001b[39m] = \u001b[33mVector\u001b[39m(\u001b[32m8.0\u001b[39m, \u001b[32m89.3\u001b[39m, \u001b[32m6.9\u001b[39m)"
      ]
     },
     "execution_count": 5,
     "metadata": {},
     "output_type": "execute_result"
    }
   ],
   "source": [
    "val newX = 2.1\n",
    "val newY = findPoints(newX, data, 0, data.length-1)\n",
    "println(newY)\n",
    "val (xVals, yVals) = data.map{ case Array(x,y) => (x,y)}.unzip"
   ]
  },
  {
   "cell_type": "code",
   "execution_count": 6,
   "metadata": {
    "collapsed": false,
    "deletable": true,
    "editable": true
   },
   "outputs": [
    {
     "data": {
      "text/plain": [
       "\u001b[32mimport \u001b[39m\u001b[36mbreeze.plot._\n",
       "\u001b[39m\n",
       "\u001b[36mfig\u001b[39m: \u001b[32mbreeze\u001b[39m.\u001b[32mplot\u001b[39m.\u001b[32mFigure\u001b[39m = breeze.plot.Figure@5681d716\n",
       "\u001b[36mplt\u001b[39m: \u001b[32mbreeze\u001b[39m.\u001b[32mplot\u001b[39m.\u001b[32mPlot\u001b[39m = breeze.plot.Plot@5823f907\n",
       "\u001b[36mres5_3\u001b[39m: \u001b[32mbreeze\u001b[39m.\u001b[32mplot\u001b[39m.\u001b[32mPlot\u001b[39m = breeze.plot.Plot@5823f907"
      ]
     },
     "execution_count": 6,
     "metadata": {},
     "output_type": "execute_result"
    }
   ],
   "source": [
    "import breeze.plot._\n",
    "val fig = Figure()\n",
    "val plt = fig.subplot(0)\n",
    "plt += plot(xVals, yVals)\n",
    "fig.refresh()"
   ]
  }
 ],
 "metadata": {
  "kernelspec": {
   "display_name": "Scala",
   "language": "scala",
   "name": "scala"
  },
  "language_info": {
   "codemirror_mode": "text/x-scala",
   "file_extension": ".scala",
   "mimetype": "text/x-scala",
   "name": "scala211",
   "nbconvert_exporter": "script",
   "pygments_lexer": "scala",
   "version": "2.11.8"
  }
 },
 "nbformat": 4,
 "nbformat_minor": 2
}
