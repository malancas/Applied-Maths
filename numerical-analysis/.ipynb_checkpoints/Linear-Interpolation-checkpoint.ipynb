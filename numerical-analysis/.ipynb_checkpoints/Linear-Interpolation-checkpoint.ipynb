{
 "cells": [
  {
   "cell_type": "markdown",
   "metadata": {
    "deletable": true,
    "editable": true
   },
   "source": [
    "## Linear Interpolation\n",
    "Linear interpolation is a method of curve fitting used to determine the y-axis of a point given the x-axis amongst a pre-established series of discrete points.\n",
    "\n",
    "$$y = y_0 + (x - x_0)\\frac{y_1 - y_0}{x_1 - x_0}$$\n",
    "\n",
    "### What is it used for?"
   ]
  },
  {
   "cell_type": "code",
   "execution_count": 18,
   "metadata": {
    "collapsed": false,
    "deletable": true,
    "editable": true
   },
   "outputs": [
    {
     "data": {
      "text/plain": [
       "\u001b[36mdata\u001b[39m: \u001b[32mVector\u001b[39m[\u001b[32mList\u001b[39m[\u001b[32mDouble\u001b[39m]] = \u001b[33mVector\u001b[39m(\u001b[33mList\u001b[39m(\u001b[32m3.4\u001b[39m, \u001b[32m8.0\u001b[39m), \u001b[33mList\u001b[39m(\u001b[32m2.0\u001b[39m, \u001b[32m89.3\u001b[39m), \u001b[33mList\u001b[39m(\u001b[32m0.4\u001b[39m, \u001b[32m6.9\u001b[39m))"
      ]
     },
     "execution_count": 18,
     "metadata": {},
     "output_type": "execute_result"
    }
   ],
   "source": [
    "val data = io.Source.fromFile(\"sample.csv\")\n",
    ".getLines()\n",
    ".map(_.split(\",\").map(_.toDouble).toList)\n",
    ".toVector"
   ]
  },
  {
   "cell_type": "markdown",
   "metadata": {},
   "source": [
    "Using imported data points from a sample csv file, one can then get the y-axis of x value between the x-axis' of established points."
   ]
  },
  {
   "cell_type": "code",
   "execution_count": 19,
   "metadata": {
    "collapsed": false
   },
   "outputs": [
    {
     "data": {
      "text/plain": [
       "defined \u001b[32mfunction\u001b[39m \u001b[36mfindInterpolation\u001b[39m"
      ]
     },
     "execution_count": 19,
     "metadata": {},
     "output_type": "execute_result"
    }
   ],
   "source": [
    "  def findInterpolation(x: Double, p0: Array[Double], p1: Array[Double]): Double = {\n",
    "    p1(1) + (x - p0(0)) * ((p1(1) - p0(1)) / (p1(0) - p0(0)))\n",
    "  }"
   ]
  },
  {
   "cell_type": "code",
   "execution_count": 20,
   "metadata": {
    "collapsed": false
   },
   "outputs": [
    {
     "data": {
      "text/plain": [
       "defined \u001b[32mfunction\u001b[39m \u001b[36mfindPoints\u001b[39m"
      ]
     },
     "execution_count": 20,
     "metadata": {},
     "output_type": "execute_result"
    }
   ],
   "source": [
    "def findPoints(x: Double, data: Vector[Array[Double]], low: Int, high: Int): Double = {\n",
    "    if ((high - low) == 1) findInterpolation(x, data(low), data(high))\n",
    "    else {\n",
    "        val mid = (low + high) / 2 \n",
    "        if (x < data(mid)(0)) findPoints(x, data, low, mid)\n",
    "        else if (x > data(mid)(0)) findPoints(x, data, mid, high)\n",
    "        else -1\n",
    "    }\n",
    "}"
   ]
  },
  {
   "cell_type": "code",
   "execution_count": 20,
   "metadata": {
    "collapsed": false
   },
   "outputs": [
    {
     "name": "stderr",
     "output_type": "stream",
     "text": [
      "cmd20.sc:2: type mismatch;\n",
      " found   : Vector[List[Double]]\n",
      " required: Vector[Array[Double]]\n",
      "val newY = findPoints(newX, data, 0, data.length-1)\n",
      "                            ^cmd20.sc:4: No implicit view available from List[Double] => (A1, A2).\n",
      "val (xVals, yVals) = data.unzip\n",
      "                          ^"
     ]
    },
    {
     "ename": "",
     "evalue": "",
     "output_type": "error",
     "traceback": [
      "Compilation Failed"
     ]
    }
   ],
   "source": [
    "val newX = 2.1\n",
    "val newY = findPoints(newX, data, 0, data.length-1)\n",
    "println(newY)\n",
    "val (xVals, yVals) = data.unzip"
   ]
  },
  {
   "cell_type": "code",
   "execution_count": 14,
   "metadata": {
    "collapsed": false
   },
   "outputs": [
    {
     "name": "stderr",
     "output_type": "stream",
     "text": [
      "cmd14.sc:1: not found: value breeze\n",
      "import breeze.plot._\n",
      "       ^cmd14.sc:2: not found: value Figure\n",
      "val fig = Figure()\n",
      "          ^"
     ]
    },
    {
     "ename": "",
     "evalue": "",
     "output_type": "error",
     "traceback": [
      "Compilation Failed"
     ]
    }
   ],
   "source": [
    "import breeze.plot._\n",
    "val fig = Figure()\n",
    "val plt = fig.subplot(0)\n",
    "plt += plot(xVals, yVals)\n",
    "fig.refresh()"
   ]
  },
  {
   "cell_type": "code",
   "execution_count": null,
   "metadata": {
    "collapsed": true
   },
   "outputs": [],
   "source": []
  }
 ],
 "metadata": {
  "kernelspec": {
   "display_name": "Scala",
   "language": "scala",
   "name": "scala"
  },
  "language_info": {
   "codemirror_mode": "text/x-scala",
   "file_extension": ".scala",
   "mimetype": "text/x-scala",
   "name": "scala211",
   "nbconvert_exporter": "script",
   "pygments_lexer": "scala",
   "version": "2.11.8"
  }
 },
 "nbformat": 4,
 "nbformat_minor": 2
}
